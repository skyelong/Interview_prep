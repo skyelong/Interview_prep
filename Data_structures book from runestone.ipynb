{
 "cells": [
  {
   "cell_type": "markdown",
   "metadata": {},
   "source": [
    "# Chapter 1 Getting started with data"
   ]
  },
  {
   "cell_type": "markdown",
   "metadata": {},
   "source": [
    "## Atomic Data Types\n",
    "\n",
    "1. int\n",
    "2. float"
   ]
  },
  {
   "cell_type": "code",
   "execution_count": 1,
   "metadata": {},
   "outputs": [
    {
     "name": "stdout",
     "output_type": "stream",
     "text": [
      "14\n",
      "20\n",
      "1024\n",
      "2.0\n",
      "2.3333333333333335\n",
      "2\n",
      "1\n",
      "0.5\n",
      "0\n",
      "3\n",
      "1267650600228229401496703205376\n"
     ]
    }
   ],
   "source": [
    "print(2 + 3 * 4)\n",
    "print((2 + 3) * 4)\n",
    "print(2 ** 10)\n",
    "#returns a float\n",
    "print(6 / 3)\n",
    "print(7 / 3)\n",
    "#return an integer\n",
    "print(7 // 3)\n",
    "#modulo returns the remainter nice for finding things that are dividible by somethign\n",
    "print(7 % 3)\n",
    "print(3 / 6)\n",
    "print(3 // 6)\n",
    "print(3 % 6)\n",
    "print(2 ** 100)\n"
   ]
  },
  {
   "cell_type": "markdown",
   "metadata": {},
   "source": [
    "## Boolean Data Type\n",
    "\n",
    "1. bool class\n",
    "True or False\n",
    "can be used with ```and``` ```or``` and `not`\n",
    "Also useful with comparison operators like `>`\n"
   ]
  },
  {
   "cell_type": "code",
   "execution_count": 2,
   "metadata": {},
   "outputs": [
    {
     "name": "stdout",
     "output_type": "stream",
     "text": [
      "False\n",
      "True\n",
      "True\n"
     ]
    }
   ],
   "source": [
    "print(5 == 10)\n",
    "print(10 > 5)\n",
    "print((5 >= 1) and (5 <= 10))\n"
   ]
  },
  {
   "cell_type": "markdown",
   "metadata": {},
   "source": [
    "## Identifiers\n",
    "1. these are the variable names, start with a letter or _"
   ]
  },
  {
   "cell_type": "code",
   "execution_count": 4,
   "metadata": {},
   "outputs": [
    {
     "name": "stdout",
     "output_type": "stream",
     "text": [
      "1\n",
      "True\n"
     ]
    }
   ],
   "source": [
    "the_sum = 0\n",
    "the_sum\n",
    "\n",
    "the_sum = the_sum + 1\n",
    "print(the_sum)\n",
    "\n",
    "the_sum = True\n",
    "print(the_sum)\n",
    "\n"
   ]
  },
  {
   "cell_type": "markdown",
   "metadata": {},
   "source": [
    "# Lists\n",
    "\n",
    "Table 2: Operations on Any Sequence in Python\n",
    " 1. indexing `[]`\n",
    " 2. concatenation `+`\n",
    " 3. repetition `*` concatinate a repeated number of times\n",
    " 4. membership `in` Ask if an item is in a sequence\n",
    " 5. length `len`\n",
    " 6. slicing `[:]` slicing starts at 0 and is non-inclusive"
   ]
  },
  {
   "cell_type": "code",
   "execution_count": 5,
   "metadata": {},
   "outputs": [
    {
     "name": "stdout",
     "output_type": "stream",
     "text": [
      "[[1, 2, 3, 4], [1, 2, 3, 4], [1, 2, 3, 4]]\n",
      "[[1, 2, 45, 4], [1, 2, 45, 4], [1, 2, 45, 4]]\n"
     ]
    }
   ],
   "source": [
    "#repetition leads to a repeat of instances, but they all point to the same place in memory!\n",
    "#This means that what you do to one repeat will happen to all repeats\n",
    "my_list = [1, 2, 3, 4]\n",
    "big_list = [my_list] * 3\n",
    "print(big_list)\n",
    "my_list[2] = 45\n",
    "print(big_list)"
   ]
  },
  {
   "cell_type": "markdown",
   "metadata": {},
   "source": [
    "## List methods\n"
   ]
  },
  {
   "cell_type": "code",
   "execution_count": 6,
   "metadata": {},
   "outputs": [
    {
     "name": "stdout",
     "output_type": "stream",
     "text": [
      "[1024, 3, True, 6.5, False]\n"
     ]
    }
   ],
   "source": [
    "my_list = [1024, 3, True, 6.5]\n",
    "#append adds a new item at the end of the list\n",
    "my_list.append(False)\n",
    "print(my_list)"
   ]
  },
  {
   "cell_type": "code",
   "execution_count": 7,
   "metadata": {},
   "outputs": [
    {
     "name": "stdout",
     "output_type": "stream",
     "text": [
      "[1024, 3, 4.5, True, 6.5, False]\n"
     ]
    }
   ],
   "source": [
    "# insert will insert an item into the specified location \n",
    "#.insert(location, item_to_insert)\n",
    "my_list.insert(2,4.5)\n",
    "print(my_list)"
   ]
  },
  {
   "cell_type": "code",
   "execution_count": 8,
   "metadata": {},
   "outputs": [
    {
     "name": "stdout",
     "output_type": "stream",
     "text": [
      "False\n",
      "[1024, 3, 4.5, True, 6.5]\n"
     ]
    }
   ],
   "source": [
    "#pop will remove and return the last item in the list\n",
    "print(my_list.pop()) \n",
    "print(my_list)"
   ]
  },
  {
   "cell_type": "code",
   "execution_count": 9,
   "metadata": {},
   "outputs": [
    {
     "name": "stdout",
     "output_type": "stream",
     "text": [
      "3\n",
      "[1024, 4.5, True, 6.5]\n"
     ]
    }
   ],
   "source": [
    "#.pop(i) will remove and return the item from the list at this location\n",
    "print(my_list.pop(1)) \n",
    "print(my_list)"
   ]
  },
  {
   "cell_type": "code",
   "execution_count": null,
   "metadata": {},
   "outputs": [],
   "source": []
  }
 ],
 "metadata": {
  "kernelspec": {
   "display_name": "Python 3",
   "language": "python",
   "name": "python3"
  },
  "language_info": {
   "codemirror_mode": {
    "name": "ipython",
    "version": 3
   },
   "file_extension": ".py",
   "mimetype": "text/x-python",
   "name": "python",
   "nbconvert_exporter": "python",
   "pygments_lexer": "ipython3",
   "version": "3.7.7"
  }
 },
 "nbformat": 4,
 "nbformat_minor": 4
}
