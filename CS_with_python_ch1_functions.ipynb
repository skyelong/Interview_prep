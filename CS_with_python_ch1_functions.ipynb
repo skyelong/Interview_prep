{
 "cells": [
  {
   "cell_type": "markdown",
   "metadata": {},
   "source": [
    "# Challenge - make an infinate monkey generator\n",
    "we want to generate the string “methinks it is like a weasel”\n",
    ">>> help(string) # on Python 3\n",
    "....\n",
    "DATA\n",
    "    ascii_letters = 'abcdefghijklmnopqrstuvwxyzABCDEFGHIJKLMNOPQRSTUVWXYZ'\n",
    "    ascii_lowercase = 'abcdefghijklmnopqrstuvwxyz'\n",
    "    ascii_uppercase = 'ABCDEFGHIJKLMNOPQRSTUVWXYZ'\n",
    "    digits = '0123456789'\n",
    "    hexdigits = '0123456789abcdefABCDEF'\n",
    "    octdigits = '01234567'\n",
    "    printable = '0123456789abcdefghijklmnopqrstuvwxyzABCDEFGHIJKLMNOPQRSTUVWXYZ!\"#$%&\\'()*+,-./:;<=>?@[\\\\]^_`{|}~   \\t\\n\\r\\x0b\\x0c'\n",
    "    punctuation = '!\"#$%&\\'()*+,-./:;<=>?@[\\\\]^_`{|}~'\n",
    "    whitespace = ' \\t\\n\\r\\x0b\\x0c'"
   ]
  },
  {
   "cell_type": "code",
   "execution_count": 134,
   "metadata": {},
   "outputs": [],
   "source": [
    "#my solution\n",
    "def monkey(strings):\n",
    "    import random\n",
    "    import string\n",
    "    letters = list(string.ascii_lowercase)\n",
    "    letters.append(\" \")\n",
    "    w = []\n",
    "    for word in strings:\n",
    "        for i in range(0,len(word)):\n",
    "            l = ''\n",
    "            while l != word[i]:\n",
    "                random.shuffle(letters)\n",
    "                l = letters[0]\n",
    "            else:\n",
    "                w.append(l)\n",
    "    print(''.join(w))       \n",
    "                \n",
    "            \n",
    "        "
   ]
  },
  {
   "cell_type": "code",
   "execution_count": 150,
   "metadata": {},
   "outputs": [],
   "source": [
    "#my solution\n",
    "def monkey2(strings):\n",
    "    import random\n",
    "    import string\n",
    "    letters = list(string.ascii_lowercase)\n",
    "    letters.append(\" \")\n",
    "    w = []\n",
    "    for i in range(0,len(strings)):\n",
    "        l = ''\n",
    "        while l != strings[i]:\n",
    "            random.shuffle(letters)\n",
    "            l = letters[0]\n",
    "        else:\n",
    "            w.append(l)\n",
    "    return ''.join(w)       \n",
    "                \n",
    "            \n",
    "        "
   ]
  },
  {
   "cell_type": "code",
   "execution_count": 149,
   "metadata": {},
   "outputs": [
    {
     "name": "stdout",
     "output_type": "stream",
     "text": [
      "17.3 ms ± 255 µs per loop (mean ± std. dev. of 7 runs, 100 loops each)\n"
     ]
    }
   ],
   "source": [
    "%timeit monkey('methinks it is like a weasel')"
   ]
  },
  {
   "cell_type": "code",
   "execution_count": 141,
   "metadata": {},
   "outputs": [
    {
     "data": {
      "text/plain": [
       "'methinks it is like a weasel'"
      ]
     },
     "execution_count": 141,
     "metadata": {},
     "output_type": "execute_result"
    }
   ],
   "source": [
    "monkey('methinks it is like a weasel')"
   ]
  },
  {
   "cell_type": "code",
   "execution_count": 151,
   "metadata": {},
   "outputs": [
    {
     "name": "stdout",
     "output_type": "stream",
     "text": [
      "17.4 ms ± 228 µs per loop (mean ± std. dev. of 7 runs, 100 loops each)\n"
     ]
    }
   ],
   "source": [
    "%timeit monkey2('methinks it is like a weasel')"
   ]
  },
  {
   "cell_type": "markdown",
   "metadata": {},
   "source": [
    "# The Runestone way\n",
    "1. make a function that generates a string 28 characters long by choosing random letters from 26 alphabet plus spece\n",
    "2. function that scores the string by comparing the generated string to the original string\n",
    "3. repeatendly calls the above functions and stops when the score is 100% it will also print out the best string and its score every 1000 tries"
   ]
  },
  {
   "cell_type": "code",
   "execution_count": null,
   "metadata": {},
   "outputs": [],
   "source": []
  }
 ],
 "metadata": {
  "kernelspec": {
   "display_name": "Python 3",
   "language": "python",
   "name": "python3"
  },
  "language_info": {
   "codemirror_mode": {
    "name": "ipython",
    "version": 3
   },
   "file_extension": ".py",
   "mimetype": "text/x-python",
   "name": "python",
   "nbconvert_exporter": "python",
   "pygments_lexer": "ipython3",
   "version": "3.7.7"
  }
 },
 "nbformat": 4,
 "nbformat_minor": 4
}
