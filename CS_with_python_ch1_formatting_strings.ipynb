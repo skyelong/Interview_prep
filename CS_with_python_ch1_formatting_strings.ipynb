{
 "cells": [
  {
   "cell_type": "code",
   "execution_count": 1,
   "metadata": {},
   "outputs": [
    {
     "name": "stdout",
     "output_type": "stream",
     "text": [
      "Hello\n"
     ]
    }
   ],
   "source": [
    "print(\"Hello\")"
   ]
  },
  {
   "cell_type": "code",
   "execution_count": 2,
   "metadata": {},
   "outputs": [
    {
     "name": "stdout",
     "output_type": "stream",
     "text": [
      "Hello World\n"
     ]
    }
   ],
   "source": [
    "print(\"Hello\", \"World\")"
   ]
  },
  {
   "cell_type": "code",
   "execution_count": 3,
   "metadata": {},
   "outputs": [
    {
     "name": "stdout",
     "output_type": "stream",
     "text": [
      "Hello***World\n"
     ]
    }
   ],
   "source": [
    "print(\"Hello\", \"World\", sep=\"***\")"
   ]
  },
  {
   "cell_type": "code",
   "execution_count": 4,
   "metadata": {},
   "outputs": [
    {
     "name": "stdout",
     "output_type": "stream",
     "text": [
      "Hello World***"
     ]
    }
   ],
   "source": [
    "print(\"Hello\", \"World\", end=\"***\")"
   ]
  },
  {
   "cell_type": "code",
   "execution_count": 6,
   "metadata": {},
   "outputs": [
    {
     "name": "stdout",
     "output_type": "stream",
     "text": [
      "skye is 42 years old.\n"
     ]
    }
   ],
   "source": [
    "a_name = 'skye'\n",
    "age= 42\n",
    "#formatted strings use templates to replace variables\n",
    "print(a_name, \"is\", age, \"years old.\")"
   ]
  },
  {
   "cell_type": "code",
   "execution_count": 7,
   "metadata": {},
   "outputs": [
    {
     "name": "stdout",
     "output_type": "stream",
     "text": [
      "skye is 42 years old.\n"
     ]
    }
   ],
   "source": [
    "#%is a format opperator %s tells it to input a string %d,i to input a digit\n",
    "print(\"%s is %d years old.\" % (a_name, age))"
   ]
  },
  {
   "cell_type": "code",
   "execution_count": 8,
   "metadata": {},
   "outputs": [],
   "source": [
    "price = 24\n",
    "item = \"banana\""
   ]
  },
  {
   "cell_type": "code",
   "execution_count": 9,
   "metadata": {},
   "outputs": [
    {
     "name": "stdout",
     "output_type": "stream",
     "text": [
      "The banana costs 24 cents\n"
     ]
    }
   ],
   "source": [
    "print(\"The %s costs %d cents\" % (item, price))"
   ]
  },
  {
   "cell_type": "markdown",
   "metadata": {},
   "source": [
    "## Formatting conversion characters\n",
    "1. d,i are integers\n",
    "2. u unsigned integer\n",
    "3. f floating point as m.dddddd where d is the number of decimal points\n",
    "4. e floating point as m.ddddde+/-xx\n",
    "5. E Floating point as m.dddddE+/-xx\n",
    "6. g Use %e for exponents less than −4 or greater than +5, otherwise use %f\n",
    "7. c Single character\n",
    "8. s String, or any Python data object that can be converted to a string by using the str function.\n",
    "9. % Insert a literal % character\n",
    "\n",
    "1. number %20d Put the value in a field width of 20\n",
    "2. - %-20d Put the value in a field 20 characters wide, left-justified\n",
    "3. + %+20d Put the value in a field 20 characters wide, right-justified\n",
    "4. 0 %020d Put the value in a field 20 characters wide, fill in with leading zeros.\n",
    "5. . %20.2f Put the value in a field 20 characters wide with 2 characters to the right of the decimal point.\n",
    "6. (name) %(name)d Get the value from the supplied dictionary using name as the key.\n"
   ]
  },
  {
   "cell_type": "code",
   "execution_count": 10,
   "metadata": {},
   "outputs": [
    {
     "name": "stdout",
     "output_type": "stream",
     "text": [
      "The     banana costs 24.00 cents\n"
     ]
    }
   ],
   "source": [
    "#the first call puts the string in a field 10 spaced wide right justified\n",
    "#%-10s would put it left justified\n",
    "#%5.2f puts the characters in a field of 5 characters with 2 decimal points\n",
    "print(\"The %+10s costs %5.2f cents\" % (item, price))"
   ]
  },
  {
   "cell_type": "code",
   "execution_count": 11,
   "metadata": {},
   "outputs": [
    {
     "name": "stdout",
     "output_type": "stream",
     "text": [
      "The     banana costs      24.00 cents\n"
     ]
    }
   ],
   "source": [
    "print(\"The %+10s costs %10.2f cents\" % (item, price))"
   ]
  },
  {
   "cell_type": "code",
   "execution_count": 12,
   "metadata": {},
   "outputs": [],
   "source": [
    "itemdict = {\"item\": \"banana\", \"cost\": 24}"
   ]
  },
  {
   "cell_type": "code",
   "execution_count": 13,
   "metadata": {},
   "outputs": [
    {
     "name": "stdout",
     "output_type": "stream",
     "text": [
      "The banana costs    24.0 cents\n"
     ]
    }
   ],
   "source": [
    "print(\"The %(item)s costs %(cost)7.1f cents\" % itemdict)"
   ]
  },
  {
   "cell_type": "markdown",
   "metadata": {},
   "source": [
    "## using the {} format class"
   ]
  },
  {
   "cell_type": "code",
   "execution_count": 14,
   "metadata": {},
   "outputs": [
    {
     "name": "stdout",
     "output_type": "stream",
     "text": [
      "The banana costs 24 cents\n"
     ]
    }
   ],
   "source": [
    "print(\"The {} costs {} cents\".format(item, price))"
   ]
  },
  {
   "cell_type": "code",
   "execution_count": 15,
   "metadata": {},
   "outputs": [
    {
     "name": "stdout",
     "output_type": "stream",
     "text": [
      "The banana costs 24 cents\n"
     ]
    }
   ],
   "source": [
    "print(\"The {:s} costs {:d} cents\".format(item, price))"
   ]
  },
  {
   "cell_type": "code",
   "execution_count": 16,
   "metadata": {},
   "outputs": [
    {
     "name": "stdout",
     "output_type": "stream",
     "text": [
      "The banana     costs      24.00 cents\n"
     ]
    }
   ],
   "source": [
    "#new to python 3.6\n",
    "print(f\"The {item:10} costs {price:10.2f} cents\")"
   ]
  },
  {
   "cell_type": "code",
   "execution_count": 17,
   "metadata": {},
   "outputs": [
    {
     "name": "stdout",
     "output_type": "stream",
     "text": [
      "The banana     costs 24.00      cents\n"
     ]
    }
   ],
   "source": [
    "#left justifies\n",
    "print(f\"The {item:<10} costs {price:<10.2f} cents\")"
   ]
  },
  {
   "cell_type": "code",
   "execution_count": 18,
   "metadata": {},
   "outputs": [
    {
     "name": "stdout",
     "output_type": "stream",
     "text": [
      "The   banana   costs   24.00    cents\n"
     ]
    }
   ],
   "source": [
    "#centers\n",
    "print(f\"The {item:^10} costs {price:^10.2f} cents\")"
   ]
  },
  {
   "cell_type": "code",
   "execution_count": 19,
   "metadata": {},
   "outputs": [
    {
     "name": "stdout",
     "output_type": "stream",
     "text": [
      "The     banana costs      24.00 cents\n"
     ]
    }
   ],
   "source": [
    "#right justify\n",
    "print(f\"The {item:>10} costs {price:>10.2f} cents\")"
   ]
  },
  {
   "cell_type": "code",
   "execution_count": 20,
   "metadata": {},
   "outputs": [
    {
     "name": "stdout",
     "output_type": "stream",
     "text": [
      "The     banana costs 0000024.00 cents\n"
     ]
    }
   ],
   "source": [
    "#right with leading zeros\n",
    "print(f\"The {item:>10} costs {price:>010.2f} cents\")"
   ]
  },
  {
   "cell_type": "code",
   "execution_count": 21,
   "metadata": {},
   "outputs": [],
   "source": [
    "itemdict = {\"item\": \"banana\", \"price\": 24}"
   ]
  },
  {
   "cell_type": "code",
   "execution_count": 22,
   "metadata": {},
   "outputs": [
    {
     "name": "stdout",
     "output_type": "stream",
     "text": [
      "Item:....banana\n",
      "Price:...$24.00\n"
     ]
    }
   ],
   "source": [
    "print(f\"Item:{itemdict['item']:.>10}\\n\" + f\"Price:{'$':.>4}{itemdict['price']:5.2f}\")"
   ]
  }
 ],
 "metadata": {
  "kernelspec": {
   "display_name": "Python 3",
   "language": "python",
   "name": "python3"
  },
  "language_info": {
   "codemirror_mode": {
    "name": "ipython",
    "version": 3
   },
   "file_extension": ".py",
   "mimetype": "text/x-python",
   "name": "python",
   "nbconvert_exporter": "python",
   "pygments_lexer": "ipython3",
   "version": "3.7.7"
  }
 },
 "nbformat": 4,
 "nbformat_minor": 4
}
